{
 "cells": [
  {
   "cell_type": "markdown",
   "id": "c77e5a90-690a-46bb-a2ef-f60fffbd67d3",
   "metadata": {},
   "source": [
    "# HOMEWORK 1"
   ]
  },
  {
   "cell_type": "markdown",
   "id": "4273b86f-021c-47a7-90bc-a751f1148ac3",
   "metadata": {},
   "source": [
    "<h3>2/8/2025</h3>"
   ]
  },
  {
   "cell_type": "markdown",
   "id": "b75a9b07-3464-48fd-8507-798226ef151e",
   "metadata": {},
   "source": [
    "Click <a href=\"https://web.archive.org/\">Here</a> to use the Wayback Machine! "
   ]
  },
  {
   "cell_type": "markdown",
   "id": "41ee2c49-6c55-48e5-8304-9493ba550588",
   "metadata": {},
   "source": [
    "Here is a list of my favorite shows! I am a fan of comedy shows, especially if they are weird. These three shows are funny and absurd in some way and that is why I love them.\n",
    "<ul>\n",
    "    <li>New Girl</li>\n",
    "    <li>Man Seeking Woman</li>\n",
    "    <li>The Boondocks</li>\n",
    "</ul>"
   ]
  },
  {
   "cell_type": "code",
   "execution_count": 2,
   "id": "48ec0e74-cac3-409b-836e-1e8f97644663",
   "metadata": {},
   "outputs": [
    {
     "name": "stdout",
     "output_type": "stream",
     "text": [
      "500\n"
     ]
    }
   ],
   "source": [
    "my_rent = 1000\n",
    "my_income = 1500\n",
    "after_rent = my_income - my_rent\n",
    "print(after_rent)"
   ]
  },
  {
   "cell_type": "code",
   "execution_count": null,
   "id": "2c0adc71-811a-47ee-9f28-de82ffb00ec5",
   "metadata": {},
   "outputs": [],
   "source": []
  }
 ],
 "metadata": {
  "kernelspec": {
   "display_name": "Python 3 (ipykernel)",
   "language": "python",
   "name": "python3"
  },
  "language_info": {
   "codemirror_mode": {
    "name": "ipython",
    "version": 3
   },
   "file_extension": ".py",
   "mimetype": "text/x-python",
   "name": "python",
   "nbconvert_exporter": "python",
   "pygments_lexer": "ipython3",
   "version": "3.10.9"
  }
 },
 "nbformat": 4,
 "nbformat_minor": 5
}
